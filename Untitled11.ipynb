{
 "cells": [
  {
   "cell_type": "code",
   "execution_count": 7,
   "metadata": {
    "scrolled": true
   },
   "outputs": [
    {
     "name": "stdout",
     "output_type": "stream",
     "text": [
      "2002-10-02 00:00:00\n",
      "2013-10-11 00:00:00\n",
      "1977-08-18 00:00:00\n"
     ]
    }
   ],
   "source": [
    "# Задача 1\n",
    "times = 'Wednesday, October 2, 2002'\n",
    "guardian = 'Friday, 11.10.13'\n",
    "daily = 'Thursday, 18 August 1977'\n",
    "print(datetime.strptime(times, '%A, %B %d, %Y'))\n",
    "print(datetime.strptime(guardian, '%A, %d.%m.%y'))\n",
    "print(datetime.strptime(daily, '%A, %d %B %Y'))"
   ]
  },
  {
   "cell_type": "code",
   "execution_count": 2,
   "metadata": {},
   "outputs": [],
   "source": [
    "from datetime import datetime"
   ]
  },
  {
   "cell_type": "code",
   "execution_count": 13,
   "metadata": {},
   "outputs": [],
   "source": [
    "from datetime import timedelta"
   ]
  },
  {
   "cell_type": "code",
   "execution_count": 24,
   "metadata": {},
   "outputs": [
    {
     "name": "stdout",
     "output_type": "stream",
     "text": [
      "2018-04-34 False\n",
      "2018-02-28 True\n",
      "2018-45-02 False\n",
      "2020-12-01 True\n"
     ]
    },
    {
     "data": {
      "text/plain": [
       "True"
      ]
     },
     "execution_count": 24,
     "metadata": {},
     "output_type": "execute_result"
    }
   ],
   "source": [
    "# Задача 2 \n",
    "stream = ['2018-04-34', '2018-02-28', '2018-45-02', '2020-12-01']\n",
    "\n",
    "def date_check(date_list):\n",
    "    for date in date_list:\n",
    "        try:\n",
    "            datetime.strptime(date, '%Y-%m-%d')\n",
    "            a = True\n",
    "            print(date, a)\n",
    "        except:\n",
    "            a = False\n",
    "            print(date, a)\n",
    "    return(a)\n",
    "\n",
    "date_check(stream)"
   ]
  },
  {
   "cell_type": "code",
   "execution_count": 12,
   "metadata": {},
   "outputs": [
    {
     "data": {
      "text/plain": [
       "[datetime.datetime(2019, 1, 1, 0, 0),\n",
       " datetime.datetime(2019, 1, 2, 0, 0),\n",
       " datetime.datetime(2019, 1, 3, 0, 0),\n",
       " datetime.datetime(2019, 1, 4, 0, 0),\n",
       " datetime.datetime(2019, 1, 5, 0, 0),\n",
       " datetime.datetime(2019, 1, 6, 0, 0),\n",
       " datetime.datetime(2019, 1, 7, 0, 0)]"
      ]
     },
     "execution_count": 12,
     "metadata": {},
     "output_type": "execute_result"
    }
   ],
   "source": [
    "# Задача 3 \n",
    "start_date = '2019-01-01'\n",
    "end_date = '2019-01-07'\n",
    "\n",
    "def date_range(start_dates, end_dates):\n",
    "    date_list = []\n",
    "    try:\n",
    "        start_dates_datetime = datetime.strptime(start_dates, '%Y-%m-%d')\n",
    "        end_dates_datetime = datetime.strptime(end_dates, '%Y-%m-%d')\n",
    "\n",
    "        current = start_dates_datetime\n",
    "        while current <= end_dates_datetime:\n",
    "            date_list += [current]\n",
    "            current += timedelta(days = 1)      \n",
    "    except:\n",
    "        date_list = []\n",
    "    return(date_list)\n",
    "\n",
    "date_range(start_date, end_date)"
   ]
  }
 ],
 "metadata": {
  "kernelspec": {
   "display_name": "Python 3",
   "language": "python",
   "name": "python3"
  },
  "language_info": {
   "codemirror_mode": {
    "name": "ipython",
    "version": 3
   },
   "file_extension": ".py",
   "mimetype": "text/x-python",
   "name": "python",
   "nbconvert_exporter": "python",
   "pygments_lexer": "ipython3",
   "version": "3.8.3"
  }
 },
 "nbformat": 4,
 "nbformat_minor": 4
}
